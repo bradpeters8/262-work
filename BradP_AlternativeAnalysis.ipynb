{
  "nbformat": 4,
  "nbformat_minor": 0,
  "metadata": {
    "colab": {
      "name": "BradP_AlternativeAnalysis.ipynb",
      "provenance": [],
      "collapsed_sections": []
    },
    "kernelspec": {
      "name": "python3",
      "display_name": "Python 3"
    },
    "language_info": {
      "name": "python"
    }
  },
  "cells": [
    {
      "cell_type": "code",
      "execution_count": 9,
      "metadata": {
        "colab": {
          "base_uri": "https://localhost:8080/"
        },
        "id": "lSnwph3A-oVE",
        "outputId": "780eaf0e-3f45-4e1a-80bf-4146b349b65a"
      },
      "outputs": [
        {
          "output_type": "stream",
          "name": "stdout",
          "text": [
            "Empty DataFrame\n",
            "Columns: [criteria, weight, ratingA, ratingB, scoreA, scoreB]\n",
            "Index: []\n"
          ]
        }
      ],
      "source": [
        "import pandas as pd\n",
        "AA=pd.DataFrame(columns=['criteria','weight','ratingA','ratingB','scoreA','scoreB'])\n",
        "print(AA)"
      ]
    },
    {
      "cell_type": "code",
      "source": [
        "AA['criteria']=['risk','ROI','customerSatisfaction','feasibility','strateficalAlignment']\n",
        "print(AA)"
      ],
      "metadata": {
        "id": "DMXialUuBDZT",
        "colab": {
          "base_uri": "https://localhost:8080/"
        },
        "outputId": "fae1ce20-a2d7-4818-d2c3-ae2226e9a1bc"
      },
      "execution_count": 10,
      "outputs": [
        {
          "output_type": "stream",
          "name": "stdout",
          "text": [
            "               criteria weight ratingA ratingB scoreA scoreB\n",
            "0                  risk    NaN     NaN     NaN    NaN    NaN\n",
            "1                   ROI    NaN     NaN     NaN    NaN    NaN\n",
            "2  customerSatisfaction    NaN     NaN     NaN    NaN    NaN\n",
            "3           feasibility    NaN     NaN     NaN    NaN    NaN\n",
            "4  strateficalAlignment    NaN     NaN     NaN    NaN    NaN\n"
          ]
        }
      ]
    },
    {
      "cell_type": "code",
      "source": [
        "AA['weight']=[0.1,0.15,0.3,0.15,0.3]\n",
        "print(AA)"
      ],
      "metadata": {
        "colab": {
          "base_uri": "https://localhost:8080/"
        },
        "id": "vg1B7DUtB-u8",
        "outputId": "14d99194-7a21-48b6-ffd2-c2e329046176"
      },
      "execution_count": 12,
      "outputs": [
        {
          "output_type": "stream",
          "name": "stdout",
          "text": [
            "               criteria  weight ratingA ratingB scoreA scoreB\n",
            "0                  risk    0.10     NaN     NaN    NaN    NaN\n",
            "1                   ROI    0.15     NaN     NaN    NaN    NaN\n",
            "2  customerSatisfaction    0.30     NaN     NaN    NaN    NaN\n",
            "3           feasibility    0.15     NaN     NaN    NaN    NaN\n",
            "4  strateficalAlignment    0.30     NaN     NaN    NaN    NaN\n"
          ]
        }
      ]
    },
    {
      "cell_type": "code",
      "source": [
        "AA['ratingA']=[4,1,2,1,5]\n",
        "AA['ratingB']=[3,4,2,3,2]\n",
        "for index, row in AA.iterrows():\n",
        "  AA['scoreA'][index]=row['ratingA']*row['weight']\n",
        "  AA['scoreB'][index]=row['ratingB']*row['weight']\n",
        "print(AA)"
      ],
      "metadata": {
        "colab": {
          "base_uri": "https://localhost:8080/"
        },
        "id": "R4RqWTfIClM1",
        "outputId": "ba88a875-c5ed-4e0d-b271-f0847f0885a9"
      },
      "execution_count": 14,
      "outputs": [
        {
          "output_type": "stream",
          "name": "stdout",
          "text": [
            "               criteria  weight  ratingA  ratingB scoreA scoreB\n",
            "0                  risk    0.10        4        3    0.4    0.3\n",
            "1                   ROI    0.15        1        4   0.15    0.6\n",
            "2  customerSatisfaction    0.30        2        2    0.6    0.6\n",
            "3           feasibility    0.15        1        3   0.15   0.45\n",
            "4  strateficalAlignment    0.30        5        2    1.5    0.6\n"
          ]
        },
        {
          "output_type": "stream",
          "name": "stderr",
          "text": [
            "/usr/local/lib/python3.7/dist-packages/ipykernel_launcher.py:4: SettingWithCopyWarning: \n",
            "A value is trying to be set on a copy of a slice from a DataFrame\n",
            "\n",
            "See the caveats in the documentation: https://pandas.pydata.org/pandas-docs/stable/user_guide/indexing.html#returning-a-view-versus-a-copy\n",
            "  after removing the cwd from sys.path.\n",
            "/usr/local/lib/python3.7/dist-packages/ipykernel_launcher.py:5: SettingWithCopyWarning: \n",
            "A value is trying to be set on a copy of a slice from a DataFrame\n",
            "\n",
            "See the caveats in the documentation: https://pandas.pydata.org/pandas-docs/stable/user_guide/indexing.html#returning-a-view-versus-a-copy\n",
            "  \"\"\"\n"
          ]
        }
      ]
    },
    {
      "cell_type": "code",
      "source": [
        "totalScoreA=0\n",
        "totalScoreB=0\n",
        "for index, row in AA.iterrows():\n",
        "  totalScoreA+=row['scoreA']\n",
        "  totalScoreB+=row['scoreB']\n",
        "print('the total score for A is {:.2f} and for B is {:.2f}'.format(totalScoreA,totalScoreB))"
      ],
      "metadata": {
        "colab": {
          "base_uri": "https://localhost:8080/"
        },
        "id": "8qzEpSf7DV4G",
        "outputId": "fdaca85d-2303-426d-cc80-2821b53e1a2b"
      },
      "execution_count": 18,
      "outputs": [
        {
          "output_type": "stream",
          "name": "stdout",
          "text": [
            "the total score for A is 2.80 and for B is 2.55\n"
          ]
        }
      ]
    }
  ]
}