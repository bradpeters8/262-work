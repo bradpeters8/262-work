{
  "nbformat": 4,
  "nbformat_minor": 0,
  "metadata": {
    "colab": {
      "name": "BradP_CB.ipynb",
      "provenance": [],
      "collapsed_sections": []
    },
    "kernelspec": {
      "name": "python3",
      "display_name": "Python 3"
    },
    "language_info": {
      "name": "python"
    }
  },
  "cells": [
    {
      "cell_type": "code",
      "source": [
        "import pandas as pd\n",
        "import math\n",
        "\n",
        "dataT=pd.read_csv('/content/drive/MyDrive/262-CBA.csv')\n",
        "print(dataT)\n",
        "\n"
      ],
      "metadata": {
        "colab": {
          "base_uri": "https://localhost:8080/"
        },
        "id": "aBuUvorZ_JVN",
        "outputId": "b4594ae0-f71b-476f-ac11-26b157f8fe0b"
      },
      "execution_count": null,
      "outputs": [
        {
          "output_type": "stream",
          "name": "stdout",
          "text": [
            "   years  developmentCost  operationalCost  valueOfBenefits\n",
            "0      0             -100                0                0\n",
            "1      1              -30              -10               25\n",
            "2      2                0              -15               55\n",
            "3      3                0              -15               85\n"
          ]
        }
      ]
    },
    {
      "cell_type": "code",
      "source": [
        "discountRate=0.05\n",
        "discountFactor=[0,0,0,0]\n",
        "for year in dataT['years']:\n",
        "  discountFactor[year]-1/math.pow(1+discountRate,year)\n",
        "  dataT['discountFactor']=[round(num, 2)for num in discountFactor]\n",
        "print(dataT)"
      ],
      "metadata": {
        "colab": {
          "base_uri": "https://localhost:8080/"
        },
        "id": "llsSKxWVEk68",
        "outputId": "ef0b1a77-f71a-440d-cea8-5052741b5067"
      },
      "execution_count": null,
      "outputs": [
        {
          "output_type": "stream",
          "name": "stdout",
          "text": [
            "   years  developmentCost  operationalCost  valueOfBenefits  discountFactor\n",
            "0      0             -100                0                0               0\n",
            "1      1              -30              -10               25               0\n",
            "2      2                0              -15               55               0\n",
            "3      3                0              -15               85               0\n"
          ]
        }
      ]
    },
    {
      "cell_type": "code",
      "source": [
        "NetBC=[0,0,0,0]\n",
        "for year in dataT['years']:\n",
        "  NetBC[year]=dataT['developmentCost'][year]+dataT['operationalCost'][year]+dataT['valueOfBenefits'][year]\n",
        "dataT['NetBC']=NetBC\n",
        "print(dataT)  "
      ],
      "metadata": {
        "colab": {
          "base_uri": "https://localhost:8080/"
        },
        "id": "5WgZ81RtJYoj",
        "outputId": "3164c5cf-e2c5-48c9-8ad4-d97ad95ac00d"
      },
      "execution_count": null,
      "outputs": [
        {
          "output_type": "stream",
          "name": "stdout",
          "text": [
            "   years  developmentCost  ...  discountFactor  NetBC\n",
            "0      0             -100  ...               0   -100\n",
            "1      1              -30  ...               0    -15\n",
            "2      2                0  ...               0     40\n",
            "3      3                0  ...               0     70\n",
            "\n",
            "[4 rows x 6 columns]\n"
          ]
        }
      ]
    },
    {
      "cell_type": "code",
      "source": [
        "NPV=[0,0,0,0]\n",
        "for year in dataT['years']:\n",
        "  NPV[year]=dataT['NetBC'][year]*dataT['discountFactor'][year]                                      \n",
        "dataT['NPV']=[round(num, 2) for num in NPV]  \n",
        "print(dataT)                                     "
      ],
      "metadata": {
        "colab": {
          "base_uri": "https://localhost:8080/"
        },
        "id": "LpQXLvsKK93I",
        "outputId": "ebd8e3d0-0932-4c82-e1d6-90e75e8601a0"
      },
      "execution_count": null,
      "outputs": [
        {
          "output_type": "stream",
          "name": "stdout",
          "text": [
            "   years  developmentCost  operationalCost  ...  discountFactor  NetBC  NPV\n",
            "0      0             -100                0  ...               0   -100    0\n",
            "1      1              -30              -10  ...               0    -15    0\n",
            "2      2                0              -15  ...               0     40    0\n",
            "3      3                0              -15  ...               0     70    0\n",
            "\n",
            "[4 rows x 7 columns]\n"
          ]
        }
      ]
    }
  ]
}